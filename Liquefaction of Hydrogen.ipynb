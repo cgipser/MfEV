{
 "cells": [
  {
   "cell_type": "markdown",
   "id": "808c1a04",
   "metadata": {},
   "source": [
    "### Importieren der Bibliotheken"
   ]
  },
  {
   "cell_type": "code",
   "execution_count": 1,
   "id": "e004846b",
   "metadata": {},
   "outputs": [],
   "source": [
    "import pypsa\n",
    "import pandas as pd\n",
    "import numpy as np"
   ]
  },
  {
   "cell_type": "markdown",
   "id": "35313e1c",
   "metadata": {},
   "source": [
    "### Importieren der Datensätze"
   ]
  },
  {
   "cell_type": "code",
   "execution_count": 2,
   "id": "254fd620",
   "metadata": {},
   "outputs": [],
   "source": [
    "#Datensätze hinterlegen\n",
    "data_pv = 1\n",
    "data_wind = 1\n",
    "data_hydrogen = 100"
   ]
  },
  {
   "cell_type": "markdown",
   "id": "9423a9b2",
   "metadata": {},
   "source": [
    "### Definieren der Variablen"
   ]
  },
  {
   "cell_type": "code",
   "execution_count": 3,
   "id": "43185909",
   "metadata": {},
   "outputs": [],
   "source": [
    "#marginal cost\n",
    "marginal_cost_grid = 1 #€/kWh\n",
    "marginal_cost_hydrogen = 1 #€/kWh\n",
    "marginal_cost_wind = 0.08 #€/kWh\n",
    "marginal_cost_pv = 0.065 #€/kWh\n",
    "\n",
    "marginal_cost_electrolysis = 0.1 #€/kWh\n",
    "marginal_cost_liquefaction = 0.1 #€/kWh\n",
    "\n",
    "marginal_cost_shipping = 1 #€/kWh\n",
    "marginal_cost_trailer = 1 #€/kWh\n",
    "marginal_cost_pipeline = 1 #€/kWh\n",
    "\n",
    "#capital_cost \n",
    "capital_cost_electrolysis = 10 #€/kW annual\n",
    "capital_cost_liquefaction = 1 #€/kWh annual \n",
    "capital_cost_hydrogen_store = 1 #€/kWh annual \n",
    "\n",
    "#settings for efficiency of components\n",
    "efficiency_electrolysis = 1\n",
    "efficiency_liquefaction = 1"
   ]
  },
  {
   "cell_type": "markdown",
   "id": "7170aa30",
   "metadata": {},
   "source": [
    "### Aufbau des Netzwerkes"
   ]
  },
  {
   "cell_type": "code",
   "execution_count": 4,
   "id": "d6d72597",
   "metadata": {},
   "outputs": [],
   "source": [
    "network = pypsa.Network()\n",
    "network.set_snapshots(range(8760))"
   ]
  },
  {
   "cell_type": "code",
   "execution_count": 5,
   "id": "fb9d752d",
   "metadata": {},
   "outputs": [],
   "source": [
    "#Buses\n",
    "network.add('Bus', name = 'electricity')\n",
    "network.add('Bus', name = 'G_hydrogen')\n",
    "network.add('Bus', name = 'L_hydrogen')\n",
    "network.add('Bus', name = 'destination')\n",
    "\n",
    "#Generators\n",
    "network.add('Generator', name = 'grid', bus = 'electricity', \n",
    "            p_nom_extendable = True, \n",
    "            marginal_cost = marginal_cost_grid)\n",
    "network.add('Generator', name = 'hydrogen_supply', bus = 'G_hydrogen', \n",
    "            p_nom_extendable = True, \n",
    "            marginal_cost = marginal_cost_hydrogen)\n",
    "\n",
    "#network.add('Generator', name = 'pv', bus = 'electricity', \n",
    "#            p_nom_extendable = True, p_max_pu = data_pv,\n",
    "#            marginal_cost = marginal_cost_pv)\n",
    "#network.add('Generator', name = 'wind_turbine', bus = 'electricity', \n",
    "#            p_nom_extendable = True, p_max_pu = data_wind,\n",
    "#            marginal_cost = marginal_cost_wind)\n",
    "\n",
    "#Load\n",
    "network.add('Load', name = 'hydrogen_load', bus = 'L_hydrogen', p_set = data_hydrogen)\n",
    "\n",
    "#Links\n",
    "network.add('Link', name = 'liquefaction', bus0 = 'G_hydrogen', bus1 = 'L_hydrogen', \n",
    "            p_nom_extendable = True, efficiency = efficiency_liquefaction, \n",
    "            capital_cost = capital_cost_liquefaction,\n",
    "            marginal_cost = marginal_cost_liquefaction)\n",
    "\n",
    "\n",
    "#TODO: Transportwege hinzufügen\n",
    "#network.add('Link', name = 'shipping', bus0 = 'hydrogen', bus1 = 'destination',\n",
    "#            marginal_cost = marginal_cost_shipping)\n",
    "#network.add('Link', name = 'trailer', bus0 = 'hydrogen', bus1 = 'destination',\n",
    "#            marginal_cost = marginal_cost_trailer)\n",
    "#network.add('Link', name = 'pipeline', bus0 = 'hydrogen', bus1 = 'destination',\n",
    "#            marginal_cost = marginal_cost_pipeline)\n",
    "\n",
    "#Stores\n",
    "network.add('Store', name = 'hydrogen_store', e_cyclic = True, \n",
    "            bus = 'L_hydrogen', e_nom_extendable = True, capital_cost = capital_cost_hydrogen_store)"
   ]
  },
  {
   "cell_type": "markdown",
   "id": "871c5be3",
   "metadata": {},
   "source": [
    "### Optimierung des Modells"
   ]
  },
  {
   "cell_type": "code",
   "execution_count": 6,
   "id": "2aeb06b0",
   "metadata": {},
   "outputs": [
    {
     "name": "stderr",
     "output_type": "stream",
     "text": [
      "INFO:pypsa.linopf:Prepare linear problem\n"
     ]
    },
    {
     "ename": "ValueError",
     "evalue": "Empty LHS in nodal balance constraint.",
     "output_type": "error",
     "traceback": [
      "\u001b[0;31m---------------------------------------------------------------------------\u001b[0m",
      "\u001b[0;31mValueError\u001b[0m                                Traceback (most recent call last)",
      "\u001b[0;32m/var/folders/np/fxyv4bts2s353fj5gdlrbgym0000gn/T/ipykernel_78971/2836951827.py\u001b[0m in \u001b[0;36m<module>\u001b[0;34m\u001b[0m\n\u001b[0;32m----> 1\u001b[0;31m \u001b[0mnetwork\u001b[0m\u001b[0;34m.\u001b[0m\u001b[0mlopf\u001b[0m\u001b[0;34m(\u001b[0m\u001b[0mpyomo\u001b[0m \u001b[0;34m=\u001b[0m \u001b[0;32mFalse\u001b[0m\u001b[0;34m,\u001b[0m \u001b[0msolver_name\u001b[0m \u001b[0;34m=\u001b[0m \u001b[0;34m'gurobi'\u001b[0m\u001b[0;34m)\u001b[0m\u001b[0;34m\u001b[0m\u001b[0;34m\u001b[0m\u001b[0m\n\u001b[0m",
      "\u001b[0;32m~/opt/anaconda3/lib/python3.9/site-packages/pypsa/components.py\u001b[0m in \u001b[0;36mlopf\u001b[0;34m(self, snapshots, pyomo, solver_name, solver_options, solver_logfile, formulation, keep_files, extra_functionality, multi_investment_periods, **kwargs)\u001b[0m\n\u001b[1;32m    733\u001b[0m             \u001b[0;32mreturn\u001b[0m \u001b[0mnetwork_lopf\u001b[0m\u001b[0;34m(\u001b[0m\u001b[0mself\u001b[0m\u001b[0;34m,\u001b[0m \u001b[0;34m**\u001b[0m\u001b[0margs\u001b[0m\u001b[0;34m)\u001b[0m\u001b[0;34m\u001b[0m\u001b[0;34m\u001b[0m\u001b[0m\n\u001b[1;32m    734\u001b[0m         \u001b[0;32melse\u001b[0m\u001b[0;34m:\u001b[0m\u001b[0;34m\u001b[0m\u001b[0;34m\u001b[0m\u001b[0m\n\u001b[0;32m--> 735\u001b[0;31m             \u001b[0;32mreturn\u001b[0m \u001b[0mnetwork_lopf_lowmem\u001b[0m\u001b[0;34m(\u001b[0m\u001b[0mself\u001b[0m\u001b[0;34m,\u001b[0m \u001b[0;34m**\u001b[0m\u001b[0margs\u001b[0m\u001b[0;34m)\u001b[0m\u001b[0;34m\u001b[0m\u001b[0;34m\u001b[0m\u001b[0m\n\u001b[0m\u001b[1;32m    736\u001b[0m \u001b[0;34m\u001b[0m\u001b[0m\n\u001b[1;32m    737\u001b[0m     \u001b[0;32mdef\u001b[0m \u001b[0madd\u001b[0m\u001b[0;34m(\u001b[0m\u001b[0mself\u001b[0m\u001b[0;34m,\u001b[0m \u001b[0mclass_name\u001b[0m\u001b[0;34m,\u001b[0m \u001b[0mname\u001b[0m\u001b[0;34m,\u001b[0m \u001b[0;34m**\u001b[0m\u001b[0mkwargs\u001b[0m\u001b[0;34m)\u001b[0m\u001b[0;34m:\u001b[0m\u001b[0;34m\u001b[0m\u001b[0;34m\u001b[0m\u001b[0m\n",
      "\u001b[0;32m~/opt/anaconda3/lib/python3.9/site-packages/pypsa/linopf.py\u001b[0m in \u001b[0;36mnetwork_lopf\u001b[0;34m(n, snapshots, solver_name, solver_logfile, extra_functionality, multi_investment_periods, skip_objective, skip_pre, extra_postprocessing, formulation, keep_references, keep_files, keep_shadowprices, solver_options, warmstart, store_basis, solver_dir)\u001b[0m\n\u001b[1;32m   1456\u001b[0m \u001b[0;34m\u001b[0m\u001b[0m\n\u001b[1;32m   1457\u001b[0m     \u001b[0mlogger\u001b[0m\u001b[0;34m.\u001b[0m\u001b[0minfo\u001b[0m\u001b[0;34m(\u001b[0m\u001b[0;34m\"Prepare linear problem\"\u001b[0m\u001b[0;34m)\u001b[0m\u001b[0;34m\u001b[0m\u001b[0;34m\u001b[0m\u001b[0m\n\u001b[0;32m-> 1458\u001b[0;31m     fdp, problem_fn = prepare_lopf(\n\u001b[0m\u001b[1;32m   1459\u001b[0m         \u001b[0mn\u001b[0m\u001b[0;34m,\u001b[0m \u001b[0msnapshots\u001b[0m\u001b[0;34m,\u001b[0m \u001b[0mkeep_files\u001b[0m\u001b[0;34m,\u001b[0m \u001b[0mskip_objective\u001b[0m\u001b[0;34m,\u001b[0m \u001b[0mextra_functionality\u001b[0m\u001b[0;34m,\u001b[0m \u001b[0msolver_dir\u001b[0m\u001b[0;34m\u001b[0m\u001b[0;34m\u001b[0m\u001b[0m\n\u001b[1;32m   1460\u001b[0m     )\n",
      "\u001b[0;32m~/opt/anaconda3/lib/python3.9/site-packages/pypsa/linopf.py\u001b[0m in \u001b[0;36mprepare_lopf\u001b[0;34m(n, snapshots, keep_files, skip_objective, extra_functionality, solver_dir)\u001b[0m\n\u001b[1;32m   1114\u001b[0m     \u001b[0mdefine_store_constraints\u001b[0m\u001b[0;34m(\u001b[0m\u001b[0mn\u001b[0m\u001b[0;34m,\u001b[0m \u001b[0msnapshots\u001b[0m\u001b[0;34m)\u001b[0m\u001b[0;34m\u001b[0m\u001b[0;34m\u001b[0m\u001b[0m\n\u001b[1;32m   1115\u001b[0m     \u001b[0mdefine_kirchhoff_constraints\u001b[0m\u001b[0;34m(\u001b[0m\u001b[0mn\u001b[0m\u001b[0;34m,\u001b[0m \u001b[0msnapshots\u001b[0m\u001b[0;34m)\u001b[0m\u001b[0;34m\u001b[0m\u001b[0;34m\u001b[0m\u001b[0m\n\u001b[0;32m-> 1116\u001b[0;31m     \u001b[0mdefine_nodal_balance_constraints\u001b[0m\u001b[0;34m(\u001b[0m\u001b[0mn\u001b[0m\u001b[0;34m,\u001b[0m \u001b[0msnapshots\u001b[0m\u001b[0;34m)\u001b[0m\u001b[0;34m\u001b[0m\u001b[0;34m\u001b[0m\u001b[0m\n\u001b[0m\u001b[1;32m   1117\u001b[0m     \u001b[0mdefine_global_constraints\u001b[0m\u001b[0;34m(\u001b[0m\u001b[0mn\u001b[0m\u001b[0;34m,\u001b[0m \u001b[0msnapshots\u001b[0m\u001b[0;34m)\u001b[0m\u001b[0;34m\u001b[0m\u001b[0;34m\u001b[0m\u001b[0m\n\u001b[1;32m   1118\u001b[0m     \u001b[0;32mif\u001b[0m \u001b[0mskip_objective\u001b[0m\u001b[0;34m:\u001b[0m\u001b[0;34m\u001b[0m\u001b[0;34m\u001b[0m\u001b[0m\n",
      "\u001b[0;32m~/opt/anaconda3/lib/python3.9/site-packages/pypsa/linopf.py\u001b[0m in \u001b[0;36mdefine_nodal_balance_constraints\u001b[0;34m(n, sns)\u001b[0m\n\u001b[1;32m    469\u001b[0m \u001b[0;34m\u001b[0m\u001b[0m\n\u001b[1;32m    470\u001b[0m     \u001b[0;32mif\u001b[0m \u001b[0;34m(\u001b[0m\u001b[0mlhs\u001b[0m \u001b[0;34m==\u001b[0m \u001b[0;34m\"\"\u001b[0m\u001b[0;34m)\u001b[0m\u001b[0;34m.\u001b[0m\u001b[0many\u001b[0m\u001b[0;34m(\u001b[0m\u001b[0;34m)\u001b[0m\u001b[0;34m.\u001b[0m\u001b[0many\u001b[0m\u001b[0;34m(\u001b[0m\u001b[0;34m)\u001b[0m\u001b[0;34m:\u001b[0m\u001b[0;34m\u001b[0m\u001b[0;34m\u001b[0m\u001b[0m\n\u001b[0;32m--> 471\u001b[0;31m         \u001b[0;32mraise\u001b[0m \u001b[0mValueError\u001b[0m\u001b[0;34m(\u001b[0m\u001b[0;34m\"Empty LHS in nodal balance constraint.\"\u001b[0m\u001b[0;34m)\u001b[0m\u001b[0;34m\u001b[0m\u001b[0;34m\u001b[0m\u001b[0m\n\u001b[0m\u001b[1;32m    472\u001b[0m \u001b[0;34m\u001b[0m\u001b[0m\n\u001b[1;32m    473\u001b[0m     \u001b[0msense\u001b[0m \u001b[0;34m=\u001b[0m \u001b[0;34m\"=\"\u001b[0m\u001b[0;34m\u001b[0m\u001b[0;34m\u001b[0m\u001b[0m\n",
      "\u001b[0;31mValueError\u001b[0m: Empty LHS in nodal balance constraint."
     ]
    }
   ],
   "source": [
    "network.lopf(pyomo = False, solver_name = 'gurobi')"
   ]
  },
  {
   "cell_type": "markdown",
   "id": "8b1998c0",
   "metadata": {},
   "source": [
    "### Auswertung der Ergebnisse"
   ]
  },
  {
   "cell_type": "code",
   "execution_count": null,
   "id": "511761a3",
   "metadata": {},
   "outputs": [],
   "source": []
  },
  {
   "cell_type": "code",
   "execution_count": null,
   "id": "e34cb6f8",
   "metadata": {},
   "outputs": [],
   "source": []
  }
 ],
 "metadata": {
  "kernelspec": {
   "display_name": "Python 3 (ipykernel)",
   "language": "python",
   "name": "python3"
  },
  "language_info": {
   "codemirror_mode": {
    "name": "ipython",
    "version": 3
   },
   "file_extension": ".py",
   "mimetype": "text/x-python",
   "name": "python",
   "nbconvert_exporter": "python",
   "pygments_lexer": "ipython3",
   "version": "3.9.7"
  }
 },
 "nbformat": 4,
 "nbformat_minor": 5
}
