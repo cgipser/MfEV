{
 "cells": [
  {
   "cell_type": "markdown",
   "id": "808c1a04",
   "metadata": {},
   "source": [
    "### Importieren der Bibliotheken"
   ]
  },
  {
   "cell_type": "code",
   "execution_count": 1,
   "id": "e004846b",
   "metadata": {},
   "outputs": [],
   "source": [
    "import pypsa\n",
    "import pandas as pd\n",
    "import numpy as np"
   ]
  },
  {
   "cell_type": "markdown",
   "id": "35313e1c",
   "metadata": {},
   "source": [
    "### Importieren der Datensätze"
   ]
  },
  {
   "cell_type": "code",
   "execution_count": 2,
   "id": "254fd620",
   "metadata": {},
   "outputs": [],
   "source": [
    "#Datensätze hinterlegen\n",
    "data_pv = 1\n",
    "data_wind = 1\n",
    "data_hydrogen = 100"
   ]
  },
  {
   "cell_type": "markdown",
   "id": "9423a9b2",
   "metadata": {},
   "source": [
    "### Definieren der Variablen"
   ]
  },
  {
   "cell_type": "code",
   "execution_count": 3,
   "id": "43185909",
   "metadata": {},
   "outputs": [],
   "source": [
    "#marginal cost\n",
    "marginal_cost_grid = 1 #€/kWh\n",
    "marginal_cost_hydrogen = 1 #€/kWh\n",
    "marginal_cost_wind = 0.08 #€/kWh\n",
    "marginal_cost_pv = 0.065 #€/kWh\n",
    "\n",
    "marginal_cost_electrolysis = 0.1 #€/kWh\n",
    "marginal_cost_liquefaction = 0.1 #€/kWh\n",
    "\n",
    "marginal_cost_shipping = 1 #€/kWh\n",
    "marginal_cost_trailer = 1 #€/kWh\n",
    "marginal_cost_pipeline = 1 #€/kWh\n",
    "\n",
    "#capital_cost \n",
    "capital_cost_electrolysis = 10 #€/kW annual\n",
    "capital_cost_liquefaction = 1 #€/kWh annual \n",
    "capital_cost_hydrogen_store = 1 #€/kWh annual \n",
    "\n",
    "#settings for efficiency of components\n",
    "efficiency_electrolysis = 1\n",
    "efficiency_liquefaction = 1"
   ]
  }
 ],
 "metadata": {
  "kernelspec": {
   "display_name": "Python 3 (ipykernel)",
   "language": "python",
   "name": "python3"
  },
  "language_info": {
   "codemirror_mode": {
    "name": "ipython",
    "version": 3
   },
   "file_extension": ".py",
   "mimetype": "text/x-python",
   "name": "python",
   "nbconvert_exporter": "python",
   "pygments_lexer": "ipython3",
   "version": "3.9.7"
  }
 },
 "nbformat": 4,
 "nbformat_minor": 5
}
